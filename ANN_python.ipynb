{
 "cells": [
  {
   "cell_type": "markdown",
   "id": "f630efe0",
   "metadata": {},
   "source": [
    "# Create a Simple Neural Network using Python"
   ]
  },
  {
   "cell_type": "code",
   "execution_count": 1,
   "id": "afefc516",
   "metadata": {},
   "outputs": [
    {
     "name": "stdout",
     "output_type": "stream",
     "text": [
      "Library imported\n"
     ]
    }
   ],
   "source": [
    "import numpy as np\n",
    "print('Library imported')"
   ]
  },
  {
   "cell_type": "code",
   "execution_count": 2,
   "id": "eb3fea21",
   "metadata": {},
   "outputs": [
    {
     "data": {
      "text/plain": [
       "array([[ 0.24846626],\n",
       "       [-0.33453706],\n",
       "       [ 0.43294678]])"
      ]
     },
     "execution_count": 2,
     "metadata": {},
     "output_type": "execute_result"
    }
   ],
   "source": [
    "2*np.random.random((3,1))-1"
   ]
  },
  {
   "cell_type": "code",
   "execution_count": 3,
   "id": "f59313e8",
   "metadata": {},
   "outputs": [],
   "source": [
    "class NeuralNetwork():\n",
    "    def __init__(self):\n",
    "        np.random.seed(2)\n",
    "        self.weights=2*np.random.random((3,1))-1\n",
    "        \n",
    "    def sigmoid(self,x):\n",
    "        return 1/(1+np.exp(-x))\n",
    "    \n",
    "    def sigmoid_derivative(self,x):\n",
    "        return x*(1-x)\n",
    "    \n",
    "    def netinputop(self,inputs):\n",
    "        return self.sigmoid(np.dot(inputs,self.weights))\n",
    "    \n",
    "    def train(self,training_inputs,training_outputs,number_iterations):\n",
    "        for iteration in range(number_iterations):\n",
    "            # pass the training data to NN\n",
    "            output=self.netinputop(training_inputs)\n",
    "            # calculate error\n",
    "            error=training_outputs-output\n",
    "            # adjustment\n",
    "            adjustment=np.dot(training_inputs.T,error*self.sigmoid_derivative(output))\n",
    "            # change the weight\n",
    "            self.weights=adjustment+self.weights\n",
    "            "
   ]
  },
  {
   "cell_type": "code",
   "execution_count": 11,
   "id": "bc0d2507",
   "metadata": {},
   "outputs": [
    {
     "name": "stdout",
     "output_type": "stream",
     "text": [
      "Random weights before training\n",
      "[[-0.1280102 ]\n",
      " [-0.94814754]\n",
      " [ 0.09932496]]\n",
      "Random weights after training\n",
      "[[ 9.67282529]\n",
      " [-0.20892653]\n",
      " [-4.62890667]]\n"
     ]
    }
   ],
   "source": [
    "neural_network=NeuralNetwork()\n",
    "\n",
    "print('Random weights before training')\n",
    "print(neural_network.weights)\n",
    "\n",
    "training_inputs=np.array([[0,0,1],[1,1,1],[1,0,1],[0,1,1]])\n",
    "training_outputs=np.array([[0,1,1,0]]).T\n",
    "\n",
    "neural_network.train(training_inputs,training_outputs,10000)\n",
    "\n",
    "print('Random weights after training')\n",
    "print(neural_network.weights)"
   ]
  },
  {
   "cell_type": "code",
   "execution_count": 18,
   "id": "c6fb3186",
   "metadata": {},
   "outputs": [
    {
     "name": "stdout",
     "output_type": "stream",
     "text": [
      "test data\n",
      "The output predicted through NN is [0.44795754]\n"
     ]
    }
   ],
   "source": [
    "print('test data')\n",
    "print('The output predicted through NN is',neural_network.netinputop(np.array([0,1,0])))"
   ]
  },
  {
   "cell_type": "code",
   "execution_count": 16,
   "id": "0e20ef03",
   "metadata": {},
   "outputs": [
    {
     "name": "stdout",
     "output_type": "stream",
     "text": [
      "test data\n",
      "The output predicted through NN is [0.00786191]\n"
     ]
    }
   ],
   "source": [
    "print('test data')\n",
    "print('The output predicted through NN is',neural_network.netinputop(np.array([0,1,1])))"
   ]
  },
  {
   "cell_type": "code",
   "execution_count": null,
   "id": "e917589d",
   "metadata": {},
   "outputs": [],
   "source": []
  }
 ],
 "metadata": {
  "kernelspec": {
   "display_name": "base",
   "language": "python",
   "name": "python3"
  },
  "language_info": {
   "codemirror_mode": {
    "name": "ipython",
    "version": 3
   },
   "file_extension": ".py",
   "mimetype": "text/x-python",
   "name": "python",
   "nbconvert_exporter": "python",
   "pygments_lexer": "ipython3",
   "version": "3.12.4"
  }
 },
 "nbformat": 4,
 "nbformat_minor": 5
}
